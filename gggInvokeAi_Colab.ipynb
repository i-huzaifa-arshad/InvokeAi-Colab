{
  "cells": [
    {
      "cell_type": "markdown",
      "metadata": {
        "id": "view-in-github",
        "colab_type": "text"
      },
      "source": [
        "<a href=\"https://colab.research.google.com/github/i-huzaifa-arshad/InvokeAi-Colab/blob/Alpha/gggInvokeAi_Colab.ipynb\" target=\"_parent\"><img src=\"https://colab.research.google.com/assets/colab-badge.svg\" alt=\"Open In Colab\"/></a>"
      ]
    },
    {
      "cell_type": "markdown",
      "source": [
        "---\n",
        "\n",
        "<h1><center>Colab Notebook for InvokeAi v3.4.0</center></h1>\n",
        "<h3><center>In case if you want to support my work 😉</center></h3>\n",
        "<center>\n",
        "    <a href=\"https://www.patreon.com/huzaifaarshad\">Patreon</a>\n",
        "    &nbsp; | &nbsp;\n",
        "    <a href=\"https://www.buymeacoffee.com/huzaifaarshad\">Buy me Coffee</a>\n",
        "</center>\n",
        "\n",
        "\n",
        "---\n",
        "\n",
        "\n"
      ],
      "metadata": {
        "id": "9XRVqxiOY-Qn"
      }
    },
    {
      "cell_type": "code",
      "source": [
        "#@markdown # **1. Connect Google Drive**\n",
        "#@markdown ---\n",
        "\n",
        "#@markdown - If you have low storage in drive, skip this step and proceed to install InvokeAi in Colab Storage\n",
        "#@markdown - Please note once you restart runtime, you will lose all data, so download important files before closing the notebook\n",
        "\n",
        "from google.colab import drive\n",
        "drive.mount(\"/content/gdrive\")"
      ],
      "metadata": {
        "cellView": "form",
        "id": "q5f-n5b-5VOg"
      },
      "execution_count": null,
      "outputs": []
    },
    {
      "cell_type": "code",
      "source": [
        "#@markdown # **2. Install / Update InvokeAi**\n",
        "#@markdown ---\n",
        "\n",
        "from IPython.display import clear_output\n",
        "\n",
        "%cd /content/gdrive/MyDrive\n",
        "\n",
        "# Clone the repository\n",
        "!git clone https://github.com/i-huzaifa-arshad/InvokeAI\n",
        "clear_output()\n",
        "\n",
        "print('\\u2714 Done!')"
      ],
      "metadata": {
        "cellView": "form",
        "id": "XiOM2iy7DNWB"
      },
      "execution_count": null,
      "outputs": []
    },
    {
      "cell_type": "code",
      "source": [
        "#@markdown # **3. Install Dependencies**\n",
        "#@markdown ---\n",
        "\n",
        "import warnings\n",
        "warnings.filterwarnings(\"ignore\")\n",
        "\n",
        "%cd /content/gdrive/MyDrive/InvokeAI\n",
        "\n",
        "# Installing requirements from Dependencies folder\n",
        "\n",
        "!pip install --force-reinstall -r Dependencies/Requirements.txt\n",
        "!pip install -q -e .\n",
        "\n",
        "clear_output()\n",
        "\n",
        "print ('\\u2714 Done')"
      ],
      "metadata": {
        "id": "zwDeTWwndy-I",
        "cellView": "form"
      },
      "execution_count": null,
      "outputs": []
    },
    {
      "cell_type": "code",
      "source": [
        "#@markdown # **4-a. Download Base Models**\n",
        "#@markdown ---\n",
        "\n",
        "#@markdown - Installing base stable diffusion models (SD 1.5, SDXL, SDXL Refiner). If you want to install ControlNet models, click on the below path\n",
        "#@markdown - /content/gdrive/MyDrive/InvokeAI/invokeai/configs/INITIAL_MODELS.yaml and change `recommended: False` to `recommended: True`\n",
        "\n",
        "%cd /content/gdrive/MyDrive/InvokeAI/\n",
        "!python /content/gdrive/MyDrive/InvokeAI/scripts/invokeai-model-install.py --root_dir /content/gdrive/MyDrive/InvokeAI/GUI --yes\n",
        "\n",
        "clear_output()\n",
        "\n",
        "print ('\\u2714 Done')\n"
      ],
      "metadata": {
        "cellView": "form",
        "id": "cd2VB5GzPuQD"
      },
      "execution_count": null,
      "outputs": []
    },
    {
      "cell_type": "code",
      "source": [
        "#@markdown # **4-b. Download Custom model**\n",
        "#@markdown ---\n",
        "\n",
        "#@markdown - Download a trained dreambooth `.ckpt model` from `google drive` or download desired models from `civitai.com`\n",
        "#@markdown - Just write desired `model name` and `model url` and it will automatically download the models in the required path\n",
        "#@markdown - You don't have to write model extension in `model_name` as it will automatically add it and save models like `model-name.ckpt` or `model-name.safetensors`\n",
        "\n",
        "import os\n",
        "from urllib.parse import urlparse\n",
        "\n",
        "# Ask the user for the model name\n",
        "model_name = \"\" # @param {type:\"string\"}\n",
        "\n",
        "model_link = \"\" # @param {type:\"string\"}\n",
        "\n",
        "# Define the directory where the model will be saved\n",
        "model_dir = '/content/gdrive/MyDrive/InvokeAI/GUI/models/sd-1/main'\n",
        "\n",
        "# Create the directory if it does not exist\n",
        "os.makedirs(model_dir, exist_ok=True)\n",
        "\n",
        "# Check if the URL is from Google Drive\n",
        "if \"drive.google.com\" in model_link:\n",
        "    # Add the .ckpt extension\n",
        "    model_filename = f\"{model_name}.ckpt\"\n",
        "\n",
        "    # Extract the file ID from the URL\n",
        "    file_id = model_link.split('/')[-2]\n",
        "\n",
        "    # Download the file from Google Drive\n",
        "    !gdown https://drive.google.com/uc?id={file_id} -O {os.path.join(model_dir, model_filename)}\n",
        "\n",
        "else:\n",
        "    # Add the .safetensors extension\n",
        "    model_filename = f\"{model_name}.safetensors\"\n",
        "\n",
        "    # Download the model\n",
        "    !wget -O {os.path.join(model_dir, model_filename)} \"{model_link}\"\n",
        "\n",
        "clear_output()\n",
        "print('Model Downloaded! 🚀')\n"
      ],
      "metadata": {
        "cellView": "form",
        "id": "5ARC8gvBoVMo"
      },
      "execution_count": null,
      "outputs": []
    },
    {
      "cell_type": "code",
      "execution_count": null,
      "metadata": {
        "cellView": "form",
        "id": "BWoTrZLRP5zh"
      },
      "outputs": [],
      "source": [
        "#@markdown # **5. Run InvokeAI**\n",
        "#@markdown - Launching InvokeAI Web UI via SSH Tunnel\n",
        "#@markdown ---\n",
        "\n",
        "import os\n",
        "import shlex\n",
        "import subprocess\n",
        "from IPython.display import clear_output\n",
        "from pathlib import Path\n",
        "from typing import Union\n",
        "clear_output()\n",
        "\n",
        "id_rsa_file = \"/root/.ssh/id_rsa\"\n",
        "id_rsa_pub_file = \"/root/.ssh/id_rsa.pub\"\n",
        "if os.path.exists(id_rsa_file):\n",
        "    os.remove(id_rsa_file)\n",
        "if os.path.exists(id_rsa_pub_file):\n",
        "    os.remove(id_rsa_pub_file)\n",
        "clear_output()\n",
        "\n",
        "def gen_key(path: Union[str, Path]) -> None:\n",
        "    path = Path(path)\n",
        "    arg_string = f'ssh-keygen -t rsa -b 4096 -N \"\" -q -f {path.as_posix()}'\n",
        "    args = shlex.split(arg_string)\n",
        "    subprocess.run(args, check=True)\n",
        "    path.chmod(0o600)\n",
        "\n",
        "ssh_name = \"id_rsa\"\n",
        "ssh_path = Path(\"/root/.ssh/\") / ssh_name\n",
        "gen_key(ssh_path)\n",
        "clear_output()\n",
        "\n",
        "import threading\n",
        "def tunnel():\n",
        "  !ssh -R 80:127.0.0.1:9090 -o StrictHostKeyChecking=no -i /root/.ssh/id_rsa remote.moe\n",
        "threading.Thread(target=tunnel, daemon=True).start()\n",
        "\n",
        "%cd /content/gdrive/MyDrive/InvokeAI/\n",
        "!python /content/gdrive/MyDrive/InvokeAI/scripts/invokeai-web.py --root /content/gdrive/MyDrive/InvokeAI/GUI"
      ]
    }
  ],
  "metadata": {
    "colab": {
      "provenance": [],
      "gpuType": "T4",
      "include_colab_link": true
    },
    "kernelspec": {
      "display_name": "Python 3",
      "name": "python3"
    },
    "language_info": {
      "name": "python"
    },
    "accelerator": "GPU"
  },
  "nbformat": 4,
  "nbformat_minor": 0
}