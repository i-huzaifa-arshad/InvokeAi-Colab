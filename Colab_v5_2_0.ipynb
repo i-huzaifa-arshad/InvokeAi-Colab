{
  "cells": [
    {
      "cell_type": "markdown",
      "metadata": {
        "id": "view-in-github",
        "colab_type": "text"
      },
      "source": [
        "<a href=\"https://colab.research.google.com/github/i-huzaifa-arshad/InvokeAi-Colab/blob/Alpha/Colab_v5_2_0.ipynb\" target=\"_parent\"><img src=\"https://colab.research.google.com/assets/colab-badge.svg\" alt=\"Open In Colab\"/></a>"
      ]
    },
    {
      "cell_type": "markdown",
      "metadata": {
        "id": "9XRVqxiOY-Qn"
      },
      "source": [
        "---\n",
        "<div style=\"text-align: center\">\n",
        "    <h1></h1>\n",
        "</div>\n",
        "<h1><center>Colab Notebook for InvokeAi v5.2.0</center></h1>\n",
        "\n",
        "<h3><center>Enjoy the latest version of InvokeAI 😉</center></h3>\n",
        "<p><center>. . . ╰──╮ Tips are welcome: ETH: 0xE3d3E90563b13B1CfF45BaF9fF09496948669829 ╭──╯ . . .</center></p>\n",
        "\n",
        "\n",
        "<center>\n",
        "    <a href=\"https://www.patreon.com/huzaifaarshad\" title=\"My Patreon\"><img src=\"https://upload.wikimedia.org/wikipedia/commons/5/5a/Patreon_logomark.svg\" width=\"20\" height=\"20\"></a>\n",
        "   &nbsp;\n",
        "    <a href=\"https://github.com/i-huzaifa-arshad\" title=\"My GitHub\"><img src=\"https://github.githubassets.com/images/modules/logos_page/GitHub-Mark.png\" width=\"20\" height=\"20\"></a>\n",
        "    &nbsp;\n",
        "    <a href=\"https://www.youtube.com/@huzaifa.arshad/videos\" title=\"My YouTube\"><img src=\"https://cdn-icons-png.flaticon.com/256/1384/1384060.png\" width=\"20\" height=\"20\"></a>\n",
        "    &nbsp;\n",
        "</center>\n",
        "\n",
        "---\n"
      ]
    },
    {
      "cell_type": "code",
      "execution_count": null,
      "metadata": {
        "id": "q5f-n5b-5VOg",
        "cellView": "form"
      },
      "outputs": [],
      "source": [
        "#@markdown # **1️⃣ Connect Google Drive**\n",
        "#@markdown ---\n",
        "\n",
        "#@markdown - If your Google Drive has low storage, you can skip this step and proceed to step 2️⃣ to install InvokeAI in the storage provided by Google Colab\n",
        "#@markdown - Please note once you restart the runtime, you will lose all data, so download important files before closing the notebook\n",
        "\n",
        "from google.colab import drive\n",
        "drive.mount(\"/content/gdrive\")"
      ]
    },
    {
      "cell_type": "code",
      "execution_count": null,
      "metadata": {
        "id": "XiOM2iy7DNWB",
        "cellView": "form"
      },
      "outputs": [],
      "source": [
        "#@markdown # **2️⃣ Install InvokeAI Repository**\n",
        "#@markdown ---\n",
        "#@markdown - If you didn't mounted google drive, the repository will be installed in colab's provided storage\n",
        "#@markdown - Running this code will automatically create `InvokeAI-v5.2.0` folder and clone the repository in it, so no need to create a separate folder\n",
        "\n",
        "from IPython.display import clear_output\n",
        "import os\n",
        "\n",
        "# Change to the appropriate directory based on whether Google Drive is mounted\n",
        "if os.path.exists(\"/content/gdrive\"):\n",
        "    %cd /content/gdrive/MyDrive\n",
        "    clear_output()\n",
        "    # Set repo_path for Google Drive\n",
        "    repo_path = \"/content/gdrive/MyDrive/InvokeAI-v5.2.0\"\n",
        "else:\n",
        "    %cd /content\n",
        "    clear_output()\n",
        "    # Set repo_path for local storage\n",
        "    repo_path = \"/content/InvokeAI-v5.2.0\"\n",
        "\n",
        "# Check if the repository folder already exists\n",
        "if os.path.exists(repo_path):\n",
        "    print('\u001b[1;32mRepository already exists...')\n",
        "else:\n",
        "    # Clone the repository\n",
        "    print('\u001b[1;32mCloning the Repository into InvokeAI-v5.2.0...', end=\" \")\n",
        "    !git clone https://github.com/i-huzaifa-arshad/InvokeAI-v5.2.0 > /dev/null 2>&1\n",
        "    print('\u001b[1;32m\\n\\u2714 Done')\n"
      ]
    },
    {
      "cell_type": "code",
      "execution_count": null,
      "metadata": {
        "collapsed": true,
        "id": "5k5JvGDnGh0j",
        "cellView": "form"
      },
      "outputs": [],
      "source": [
        "#@markdown # **3️⃣ Install Dependencies (Required)**\n",
        "#@markdown ---\n",
        "#@markdown - It takes about 15 - 18 minutes to install the required dependencies (depending upon internet speed)\n",
        "#@markdown - In case you think it's not working, don't worry. Sit back and relax 😉\n",
        "\n",
        "import warnings\n",
        "from IPython.display import clear_output\n",
        "import os\n",
        "warnings.filterwarnings(\"ignore\")\n",
        "\n",
        "# Change the current directory to your desired path\n",
        "%cd {repo_path}\n",
        "\n",
        "# Install virtualenv if not already installed\n",
        "!apt install python3.10-venv > /dev/null 2>&1\n",
        "\n",
        "# Define the virtual environment path\n",
        "venv_path = f'{repo_path}/.venv'\n",
        "\n",
        "# Check if the virtual environment directory exists\n",
        "if not os.path.exists(venv_path):\n",
        "  !mkdir {venv_path}\n",
        "\n",
        "# Create a virtual environment\n",
        "!python -m venv .venv --prompt InvokeAI\n",
        "print('\u001b[1;32mVirtual environment created.')\n",
        "\n",
        "# Activate the virtual environment and install dependencies\n",
        "print('\u001b[1;32mInstalling dependencies...')\n",
        "!source .venv/bin/activate; python -m pip install --upgrade pip > /dev/null 2>&1\n",
        "!source .venv/bin/activate; python -m pip install InvokeAI[xformers]==5.2.0 --use-pep517 > /dev/null 2>&1\n",
        "\n",
        "# Add installed packages path to sys.path\n",
        "import sys\n",
        "sys.path.append(f'{venv_path}/lib/python3.10/site-packages')\n",
        "\n",
        "print('\u001b[1;32m\\n\\u2714 Done')"
      ]
    },
    {
      "cell_type": "code",
      "execution_count": null,
      "metadata": {
        "id": "XjS_xKxrgw2F",
        "cellView": "form"
      },
      "outputs": [],
      "source": [
        "#@markdown # **4️⃣ Run InvokeAI**\n",
        "#@markdown - Launching InvokeAI Web UI via Ngrok\n",
        "#@markdown - The outputs will be saved in the `Outputs` folder under `/content/gdrive/MyDrive/InvokeAI-v5.2.0/outputs` path\n",
        "#@markdown - Create an account on [Ngrok](https://ngrok.com/), to get your `ngrok token`\n",
        "#@markdown ---\n",
        "\n",
        "#@markdown #### Enter your [Ngrok Token](https://dashboard.ngrok.com/get-started/your-authtoken) here\n",
        "ngrok_token = \"\" #@param {type:\"string\"}\n",
        "#@markdown ---\n",
        "\n",
        "import os\n",
        "\n",
        "# Set the working directory\n",
        "%cd {repo_path}\n",
        "\n",
        "# Install pyngrok if needed\n",
        "!pip install pyngrok -q > /dev/null 2>&1\n",
        "from pyngrok import ngrok\n",
        "\n",
        "ngrok.kill()  # Ensure no prior tunnels are active\n",
        "ngrok.set_auth_token(ngrok_token)\n",
        "\n",
        "# Start the Ngrok tunnel\n",
        "public_url = ngrok.connect(9090).public_url\n",
        "print(f'InvokeAI Public URL: {public_url}')\n",
        "\n",
        "# Activate virtual environment and run the InvokeAI web server\n",
        "! . {venv_path}/bin/activate; python {repo_path}/scripts/invokeai-web.py\n"
      ]
    }
  ],
  "metadata": {
    "accelerator": "GPU",
    "colab": {
      "gpuType": "T4",
      "provenance": [],
      "include_colab_link": true
    },
    "kernelspec": {
      "display_name": "Python 3",
      "name": "python3"
    },
    "language_info": {
      "name": "python"
    }
  },
  "nbformat": 4,
  "nbformat_minor": 0
}